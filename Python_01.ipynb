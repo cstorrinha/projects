{
 "cells": [
  {
   "cell_type": "code",
   "execution_count": 1,
   "metadata": {},
   "outputs": [],
   "source": [
    "import numpy as np\n",
    "from pandas_datareader import data as wb\n",
    "import matplotlib.pyplot as plt"
   ]
  },
  {
   "cell_type": "code",
   "execution_count": 2,
   "metadata": {},
   "outputs": [],
   "source": [
    "PG = wb.DataReader ('PG', data_source = 'yahoo', start = '1995-1-1' )"
   ]
  },
  {
   "cell_type": "code",
   "execution_count": 3,
   "metadata": {},
   "outputs": [
    {
     "data": {
      "text/html": [
       "<div>\n",
       "<style scoped>\n",
       "    .dataframe tbody tr th:only-of-type {\n",
       "        vertical-align: middle;\n",
       "    }\n",
       "\n",
       "    .dataframe tbody tr th {\n",
       "        vertical-align: top;\n",
       "    }\n",
       "\n",
       "    .dataframe thead th {\n",
       "        text-align: right;\n",
       "    }\n",
       "</style>\n",
       "<table border=\"1\" class=\"dataframe\">\n",
       "  <thead>\n",
       "    <tr style=\"text-align: right;\">\n",
       "      <th></th>\n",
       "      <th>High</th>\n",
       "      <th>Low</th>\n",
       "      <th>Open</th>\n",
       "      <th>Close</th>\n",
       "      <th>Volume</th>\n",
       "      <th>Adj Close</th>\n",
       "    </tr>\n",
       "    <tr>\n",
       "      <th>Date</th>\n",
       "      <th></th>\n",
       "      <th></th>\n",
       "      <th></th>\n",
       "      <th></th>\n",
       "      <th></th>\n",
       "      <th></th>\n",
       "    </tr>\n",
       "  </thead>\n",
       "  <tbody>\n",
       "    <tr>\n",
       "      <th>1995-01-03</th>\n",
       "      <td>15.62500</td>\n",
       "      <td>15.43750</td>\n",
       "      <td>15.46875</td>\n",
       "      <td>15.59375</td>\n",
       "      <td>3318400.0</td>\n",
       "      <td>8.215732</td>\n",
       "    </tr>\n",
       "    <tr>\n",
       "      <th>1995-01-04</th>\n",
       "      <td>15.65625</td>\n",
       "      <td>15.31250</td>\n",
       "      <td>15.53125</td>\n",
       "      <td>15.46875</td>\n",
       "      <td>2218800.0</td>\n",
       "      <td>8.149876</td>\n",
       "    </tr>\n",
       "    <tr>\n",
       "      <th>1995-01-05</th>\n",
       "      <td>15.43750</td>\n",
       "      <td>15.21875</td>\n",
       "      <td>15.37500</td>\n",
       "      <td>15.25000</td>\n",
       "      <td>2319600.0</td>\n",
       "      <td>8.034625</td>\n",
       "    </tr>\n",
       "    <tr>\n",
       "      <th>1995-01-06</th>\n",
       "      <td>15.40625</td>\n",
       "      <td>15.15625</td>\n",
       "      <td>15.15625</td>\n",
       "      <td>15.28125</td>\n",
       "      <td>3438000.0</td>\n",
       "      <td>8.051086</td>\n",
       "    </tr>\n",
       "    <tr>\n",
       "      <th>1995-01-09</th>\n",
       "      <td>15.40625</td>\n",
       "      <td>15.18750</td>\n",
       "      <td>15.34375</td>\n",
       "      <td>15.21875</td>\n",
       "      <td>1795200.0</td>\n",
       "      <td>8.018162</td>\n",
       "    </tr>\n",
       "  </tbody>\n",
       "</table>\n",
       "</div>"
      ],
      "text/plain": [
       "                High       Low      Open     Close     Volume  Adj Close\n",
       "Date                                                                    \n",
       "1995-01-03  15.62500  15.43750  15.46875  15.59375  3318400.0   8.215732\n",
       "1995-01-04  15.65625  15.31250  15.53125  15.46875  2218800.0   8.149876\n",
       "1995-01-05  15.43750  15.21875  15.37500  15.25000  2319600.0   8.034625\n",
       "1995-01-06  15.40625  15.15625  15.15625  15.28125  3438000.0   8.051086\n",
       "1995-01-09  15.40625  15.18750  15.34375  15.21875  1795200.0   8.018162"
      ]
     },
     "execution_count": 3,
     "metadata": {},
     "output_type": "execute_result"
    }
   ],
   "source": [
    "PG.head ()"
   ]
  },
  {
   "cell_type": "code",
   "execution_count": 4,
   "metadata": {},
   "outputs": [
    {
     "data": {
      "text/html": [
       "<div>\n",
       "<style scoped>\n",
       "    .dataframe tbody tr th:only-of-type {\n",
       "        vertical-align: middle;\n",
       "    }\n",
       "\n",
       "    .dataframe tbody tr th {\n",
       "        vertical-align: top;\n",
       "    }\n",
       "\n",
       "    .dataframe thead th {\n",
       "        text-align: right;\n",
       "    }\n",
       "</style>\n",
       "<table border=\"1\" class=\"dataframe\">\n",
       "  <thead>\n",
       "    <tr style=\"text-align: right;\">\n",
       "      <th></th>\n",
       "      <th>High</th>\n",
       "      <th>Low</th>\n",
       "      <th>Open</th>\n",
       "      <th>Close</th>\n",
       "      <th>Volume</th>\n",
       "      <th>Adj Close</th>\n",
       "    </tr>\n",
       "    <tr>\n",
       "      <th>Date</th>\n",
       "      <th></th>\n",
       "      <th></th>\n",
       "      <th></th>\n",
       "      <th></th>\n",
       "      <th></th>\n",
       "      <th></th>\n",
       "    </tr>\n",
       "  </thead>\n",
       "  <tbody>\n",
       "    <tr>\n",
       "      <th>2020-12-09</th>\n",
       "      <td>138.039993</td>\n",
       "      <td>136.250000</td>\n",
       "      <td>137.830002</td>\n",
       "      <td>136.410004</td>\n",
       "      <td>6773400.0</td>\n",
       "      <td>136.410004</td>\n",
       "    </tr>\n",
       "    <tr>\n",
       "      <th>2020-12-10</th>\n",
       "      <td>136.919998</td>\n",
       "      <td>135.039993</td>\n",
       "      <td>136.520004</td>\n",
       "      <td>135.509995</td>\n",
       "      <td>6800500.0</td>\n",
       "      <td>135.509995</td>\n",
       "    </tr>\n",
       "    <tr>\n",
       "      <th>2020-12-11</th>\n",
       "      <td>136.800003</td>\n",
       "      <td>134.199997</td>\n",
       "      <td>134.460007</td>\n",
       "      <td>136.509995</td>\n",
       "      <td>6548000.0</td>\n",
       "      <td>136.509995</td>\n",
       "    </tr>\n",
       "    <tr>\n",
       "      <th>2020-12-14</th>\n",
       "      <td>137.929993</td>\n",
       "      <td>135.770004</td>\n",
       "      <td>137.020004</td>\n",
       "      <td>135.850006</td>\n",
       "      <td>6485300.0</td>\n",
       "      <td>135.850006</td>\n",
       "    </tr>\n",
       "    <tr>\n",
       "      <th>2020-12-15</th>\n",
       "      <td>137.539993</td>\n",
       "      <td>136.240005</td>\n",
       "      <td>136.389999</td>\n",
       "      <td>136.649994</td>\n",
       "      <td>5397000.0</td>\n",
       "      <td>136.649994</td>\n",
       "    </tr>\n",
       "  </tbody>\n",
       "</table>\n",
       "</div>"
      ],
      "text/plain": [
       "                  High         Low        Open       Close     Volume  \\\n",
       "Date                                                                    \n",
       "2020-12-09  138.039993  136.250000  137.830002  136.410004  6773400.0   \n",
       "2020-12-10  136.919998  135.039993  136.520004  135.509995  6800500.0   \n",
       "2020-12-11  136.800003  134.199997  134.460007  136.509995  6548000.0   \n",
       "2020-12-14  137.929993  135.770004  137.020004  135.850006  6485300.0   \n",
       "2020-12-15  137.539993  136.240005  136.389999  136.649994  5397000.0   \n",
       "\n",
       "             Adj Close  \n",
       "Date                    \n",
       "2020-12-09  136.410004  \n",
       "2020-12-10  135.509995  \n",
       "2020-12-11  136.509995  \n",
       "2020-12-14  135.850006  \n",
       "2020-12-15  136.649994  "
      ]
     },
     "execution_count": 4,
     "metadata": {},
     "output_type": "execute_result"
    }
   ],
   "source": [
    "PG.tail ()"
   ]
  },
  {
   "cell_type": "code",
   "execution_count": 5,
   "metadata": {},
   "outputs": [],
   "source": [
    "PG ['simple_return'] = (PG ['Adj Close'] / PG ['Adj Close'].shift (1)) - 1"
   ]
  },
  {
   "cell_type": "code",
   "execution_count": 6,
   "metadata": {},
   "outputs": [
    {
     "data": {
      "text/html": [
       "<div>\n",
       "<style scoped>\n",
       "    .dataframe tbody tr th:only-of-type {\n",
       "        vertical-align: middle;\n",
       "    }\n",
       "\n",
       "    .dataframe tbody tr th {\n",
       "        vertical-align: top;\n",
       "    }\n",
       "\n",
       "    .dataframe thead th {\n",
       "        text-align: right;\n",
       "    }\n",
       "</style>\n",
       "<table border=\"1\" class=\"dataframe\">\n",
       "  <thead>\n",
       "    <tr style=\"text-align: right;\">\n",
       "      <th></th>\n",
       "      <th>High</th>\n",
       "      <th>Low</th>\n",
       "      <th>Open</th>\n",
       "      <th>Close</th>\n",
       "      <th>Volume</th>\n",
       "      <th>Adj Close</th>\n",
       "      <th>simple_return</th>\n",
       "    </tr>\n",
       "    <tr>\n",
       "      <th>Date</th>\n",
       "      <th></th>\n",
       "      <th></th>\n",
       "      <th></th>\n",
       "      <th></th>\n",
       "      <th></th>\n",
       "      <th></th>\n",
       "      <th></th>\n",
       "    </tr>\n",
       "  </thead>\n",
       "  <tbody>\n",
       "    <tr>\n",
       "      <th>1995-01-03</th>\n",
       "      <td>15.625000</td>\n",
       "      <td>15.437500</td>\n",
       "      <td>15.468750</td>\n",
       "      <td>15.593750</td>\n",
       "      <td>3318400.0</td>\n",
       "      <td>8.215732</td>\n",
       "      <td>NaN</td>\n",
       "    </tr>\n",
       "    <tr>\n",
       "      <th>1995-01-04</th>\n",
       "      <td>15.656250</td>\n",
       "      <td>15.312500</td>\n",
       "      <td>15.531250</td>\n",
       "      <td>15.468750</td>\n",
       "      <td>2218800.0</td>\n",
       "      <td>8.149876</td>\n",
       "      <td>-0.008016</td>\n",
       "    </tr>\n",
       "    <tr>\n",
       "      <th>1995-01-05</th>\n",
       "      <td>15.437500</td>\n",
       "      <td>15.218750</td>\n",
       "      <td>15.375000</td>\n",
       "      <td>15.250000</td>\n",
       "      <td>2319600.0</td>\n",
       "      <td>8.034625</td>\n",
       "      <td>-0.014141</td>\n",
       "    </tr>\n",
       "    <tr>\n",
       "      <th>1995-01-06</th>\n",
       "      <td>15.406250</td>\n",
       "      <td>15.156250</td>\n",
       "      <td>15.156250</td>\n",
       "      <td>15.281250</td>\n",
       "      <td>3438000.0</td>\n",
       "      <td>8.051086</td>\n",
       "      <td>0.002049</td>\n",
       "    </tr>\n",
       "    <tr>\n",
       "      <th>1995-01-09</th>\n",
       "      <td>15.406250</td>\n",
       "      <td>15.187500</td>\n",
       "      <td>15.343750</td>\n",
       "      <td>15.218750</td>\n",
       "      <td>1795200.0</td>\n",
       "      <td>8.018162</td>\n",
       "      <td>-0.004089</td>\n",
       "    </tr>\n",
       "    <tr>\n",
       "      <th>...</th>\n",
       "      <td>...</td>\n",
       "      <td>...</td>\n",
       "      <td>...</td>\n",
       "      <td>...</td>\n",
       "      <td>...</td>\n",
       "      <td>...</td>\n",
       "      <td>...</td>\n",
       "    </tr>\n",
       "    <tr>\n",
       "      <th>2020-12-09</th>\n",
       "      <td>138.039993</td>\n",
       "      <td>136.250000</td>\n",
       "      <td>137.830002</td>\n",
       "      <td>136.410004</td>\n",
       "      <td>6773400.0</td>\n",
       "      <td>136.410004</td>\n",
       "      <td>-0.011880</td>\n",
       "    </tr>\n",
       "    <tr>\n",
       "      <th>2020-12-10</th>\n",
       "      <td>136.919998</td>\n",
       "      <td>135.039993</td>\n",
       "      <td>136.520004</td>\n",
       "      <td>135.509995</td>\n",
       "      <td>6800500.0</td>\n",
       "      <td>135.509995</td>\n",
       "      <td>-0.006598</td>\n",
       "    </tr>\n",
       "    <tr>\n",
       "      <th>2020-12-11</th>\n",
       "      <td>136.800003</td>\n",
       "      <td>134.199997</td>\n",
       "      <td>134.460007</td>\n",
       "      <td>136.509995</td>\n",
       "      <td>6548000.0</td>\n",
       "      <td>136.509995</td>\n",
       "      <td>0.007380</td>\n",
       "    </tr>\n",
       "    <tr>\n",
       "      <th>2020-12-14</th>\n",
       "      <td>137.929993</td>\n",
       "      <td>135.770004</td>\n",
       "      <td>137.020004</td>\n",
       "      <td>135.850006</td>\n",
       "      <td>6485300.0</td>\n",
       "      <td>135.850006</td>\n",
       "      <td>-0.004835</td>\n",
       "    </tr>\n",
       "    <tr>\n",
       "      <th>2020-12-15</th>\n",
       "      <td>137.539993</td>\n",
       "      <td>136.240005</td>\n",
       "      <td>136.389999</td>\n",
       "      <td>136.649994</td>\n",
       "      <td>5397000.0</td>\n",
       "      <td>136.649994</td>\n",
       "      <td>0.005889</td>\n",
       "    </tr>\n",
       "  </tbody>\n",
       "</table>\n",
       "<p>6536 rows × 7 columns</p>\n",
       "</div>"
      ],
      "text/plain": [
       "                  High         Low        Open       Close     Volume  \\\n",
       "Date                                                                    \n",
       "1995-01-03   15.625000   15.437500   15.468750   15.593750  3318400.0   \n",
       "1995-01-04   15.656250   15.312500   15.531250   15.468750  2218800.0   \n",
       "1995-01-05   15.437500   15.218750   15.375000   15.250000  2319600.0   \n",
       "1995-01-06   15.406250   15.156250   15.156250   15.281250  3438000.0   \n",
       "1995-01-09   15.406250   15.187500   15.343750   15.218750  1795200.0   \n",
       "...                ...         ...         ...         ...        ...   \n",
       "2020-12-09  138.039993  136.250000  137.830002  136.410004  6773400.0   \n",
       "2020-12-10  136.919998  135.039993  136.520004  135.509995  6800500.0   \n",
       "2020-12-11  136.800003  134.199997  134.460007  136.509995  6548000.0   \n",
       "2020-12-14  137.929993  135.770004  137.020004  135.850006  6485300.0   \n",
       "2020-12-15  137.539993  136.240005  136.389999  136.649994  5397000.0   \n",
       "\n",
       "             Adj Close  simple_return  \n",
       "Date                                   \n",
       "1995-01-03    8.215732            NaN  \n",
       "1995-01-04    8.149876      -0.008016  \n",
       "1995-01-05    8.034625      -0.014141  \n",
       "1995-01-06    8.051086       0.002049  \n",
       "1995-01-09    8.018162      -0.004089  \n",
       "...                ...            ...  \n",
       "2020-12-09  136.410004      -0.011880  \n",
       "2020-12-10  135.509995      -0.006598  \n",
       "2020-12-11  136.509995       0.007380  \n",
       "2020-12-14  135.850006      -0.004835  \n",
       "2020-12-15  136.649994       0.005889  \n",
       "\n",
       "[6536 rows x 7 columns]"
      ]
     },
     "execution_count": 6,
     "metadata": {},
     "output_type": "execute_result"
    }
   ],
   "source": [
    "PG"
   ]
  },
  {
   "cell_type": "code",
   "execution_count": 7,
   "metadata": {},
   "outputs": [
    {
     "name": "stdout",
     "output_type": "stream",
     "text": [
      "Date\n",
      "1995-01-03         NaN\n",
      "1995-01-04   -0.008016\n",
      "1995-01-05   -0.014141\n",
      "1995-01-06    0.002049\n",
      "1995-01-09   -0.004089\n",
      "                ...   \n",
      "2020-12-09   -0.011880\n",
      "2020-12-10   -0.006598\n",
      "2020-12-11    0.007380\n",
      "2020-12-14   -0.004835\n",
      "2020-12-15    0.005889\n",
      "Name: simple_return, Length: 6536, dtype: float64\n"
     ]
    }
   ],
   "source": [
    "print (PG ['simple_return'])"
   ]
  },
  {
   "cell_type": "code",
   "execution_count": 8,
   "metadata": {
    "scrolled": true
   },
   "outputs": [
    {
     "data": {
      "image/png": "[encoded data removed]",
      "text/plain": [
       "<Figure size 576x360 with 1 Axes>"
      ]
     },
     "metadata": {
      "needs_background": "light"
     },
     "output_type": "display_data"
    }
   ],
   "source": [
    "#criar um gráfico com estes dados desta coluna\n",
    "\n",
    "PG ['simple_return'].plot (figsize = (8,5))\n",
    "plt.show ()"
   ]
  },
  {
   "cell_type": "code",
   "execution_count": 17,
   "metadata": {},
   "outputs": [],
   "source": [
    "#exemplo: perda de 30% num dia em 2000"
   ]
  },
  {
   "cell_type": "code",
   "execution_count": 9,
   "metadata": {},
   "outputs": [
    {
     "data": {
      "text/plain": [
       "0.0005328284086350716"
      ]
     },
     "execution_count": 9,
     "metadata": {},
     "output_type": "execute_result"
    }
   ],
   "source": [
    "#taxa média de retorno diária\n",
    "avg_returns_d = PG ['simple_return'].mean ()\n",
    "avg_returns_d"
   ]
  },
  {
   "cell_type": "code",
   "execution_count": 10,
   "metadata": {},
   "outputs": [
    {
     "data": {
      "text/plain": [
       "0.1332071021587679"
      ]
     },
     "execution_count": 10,
     "metadata": {},
     "output_type": "execute_result"
    }
   ],
   "source": [
    "#taxa média de retorno anual\n",
    "avg_returns_a = PG ['simple_return'].mean () * 250\n",
    "avg_returns_a"
   ]
  },
  {
   "cell_type": "code",
   "execution_count": 11,
   "metadata": {},
   "outputs": [
    {
     "name": "stdout",
     "output_type": "stream",
     "text": [
      "13.321%\n"
     ]
    }
   ],
   "source": [
    "#arredondar o valor\n",
    "print (str (round (avg_returns_a, 5) * 100) + '%')"
   ]
  },
  {
   "cell_type": "code",
   "execution_count": 13,
   "metadata": {},
   "outputs": [
    {
     "name": "stdout",
     "output_type": "stream",
     "text": [
      "Date\n",
      "1995-01-03         NaN\n",
      "1995-01-04   -0.008048\n",
      "1995-01-05   -0.014242\n",
      "1995-01-06    0.002047\n",
      "1995-01-09   -0.004098\n",
      "                ...   \n",
      "2020-12-09   -0.011951\n",
      "2020-12-10   -0.006620\n",
      "2020-12-11    0.007352\n",
      "2020-12-14   -0.004846\n",
      "2020-12-15    0.005871\n",
      "Name: log_return, Length: 6536, dtype: float64\n"
     ]
    }
   ],
   "source": [
    "#cálculo alternativo à taxa de retorno\n",
    "\n",
    "PG ['log_return'] = np.log (PG['Adj Close']/PG ['Adj Close'].shift (1))\n",
    "print (PG['log_return'])"
   ]
  },
  {
   "cell_type": "code",
   "execution_count": 14,
   "metadata": {},
   "outputs": [
    {
     "data": {
      "image/png": "[encoded data removed]",
      "text/plain": [
       "<Figure size 576x360 with 1 Axes>"
      ]
     },
     "metadata": {
      "needs_background": "light"
     },
     "output_type": "display_data"
    }
   ],
   "source": [
    "PG ['log_return'].plot (figsize = (8,5))\n",
    "plt.show ()"
   ]
  },
  {
   "cell_type": "code",
   "execution_count": 16,
   "metadata": {},
   "outputs": [
    {
     "data": {
      "text/plain": [
       "0.00043020230467493955"
      ]
     },
     "execution_count": 16,
     "metadata": {},
     "output_type": "execute_result"
    }
   ],
   "source": [
    "log_return_d = PG ['log_return'].mean ()\n",
    "log_return_d"
   ]
  },
  {
   "cell_type": "code",
   "execution_count": 17,
   "metadata": {},
   "outputs": [
    {
     "data": {
      "text/plain": [
       "0.10755057616873488"
      ]
     },
     "execution_count": 17,
     "metadata": {},
     "output_type": "execute_result"
    }
   ],
   "source": [
    "log_return_a = PG ['log_return'].mean () * 250\n",
    "log_return_a"
   ]
  },
  {
   "cell_type": "code",
   "execution_count": 18,
   "metadata": {},
   "outputs": [
    {
     "name": "stdout",
     "output_type": "stream",
     "text": [
      "10.755%\n"
     ]
    }
   ],
   "source": [
    "print (str (round (log_return_a, 5) * 100) + '%')"
   ]
  },
  {
   "cell_type": "code",
   "execution_count": null,
   "metadata": {},
   "outputs": [],
   "source": []
  }
 ],
 "metadata": {
  "kernelspec": {
   "display_name": "Python 3",
   "language": "python",
   "name": "python3"
  },
  "language_info": {
   "codemirror_mode": {
    "name": "ipython",
    "version": 3
   },
   "file_extension": ".py",
   "mimetype": "text/x-python",
   "name": "python",
   "nbconvert_exporter": "python",
   "pygments_lexer": "ipython3",
   "version": "3.7.6"
  }
 },
 "nbformat": 4,
 "nbformat_minor": 4
}
